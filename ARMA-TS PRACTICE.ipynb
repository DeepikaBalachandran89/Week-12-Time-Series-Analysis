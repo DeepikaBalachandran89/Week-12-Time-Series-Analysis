{
 "cells": [
  {
   "cell_type": "code",
   "execution_count": 1,
   "id": "c492756d-61cd-4d8b-89c8-046782c6e361",
   "metadata": {},
   "outputs": [],
   "source": [
    "import pandas as pd"
   ]
  },
  {
   "cell_type": "code",
   "execution_count": 3,
   "id": "44878b52-7c3d-40b9-a896-dcaa5f222cc4",
   "metadata": {},
   "outputs": [],
   "source": [
    "dataset=pd.read_csv(\"Airmean_chennai.csv\")"
   ]
  },
  {
   "cell_type": "code",
   "execution_count": 4,
   "id": "e2ee1cb5-25cf-4b44-88d7-1b98415a9c35",
   "metadata": {},
   "outputs": [
    {
     "data": {
      "text/html": [
       "<div>\n",
       "<style scoped>\n",
       "    .dataframe tbody tr th:only-of-type {\n",
       "        vertical-align: middle;\n",
       "    }\n",
       "\n",
       "    .dataframe tbody tr th {\n",
       "        vertical-align: top;\n",
       "    }\n",
       "\n",
       "    .dataframe thead th {\n",
       "        text-align: right;\n",
       "    }\n",
       "</style>\n",
       "<table border=\"1\" class=\"dataframe\">\n",
       "  <thead>\n",
       "    <tr style=\"text-align: right;\">\n",
       "      <th></th>\n",
       "      <th>Date</th>\n",
       "      <th>City</th>\n",
       "      <th>PM2.5</th>\n",
       "      <th>PM10</th>\n",
       "      <th>NO</th>\n",
       "      <th>NO2</th>\n",
       "      <th>NOx</th>\n",
       "      <th>NH3</th>\n",
       "      <th>CO</th>\n",
       "      <th>SO2</th>\n",
       "      <th>O3</th>\n",
       "      <th>Benzene</th>\n",
       "      <th>Toluene</th>\n",
       "      <th>Xylene</th>\n",
       "      <th>AQI</th>\n",
       "    </tr>\n",
       "  </thead>\n",
       "  <tbody>\n",
       "    <tr>\n",
       "      <th>0</th>\n",
       "      <td>2015-01-01</td>\n",
       "      <td>Chennai</td>\n",
       "      <td>77.394417</td>\n",
       "      <td>149.388739</td>\n",
       "      <td>16.30</td>\n",
       "      <td>15.39</td>\n",
       "      <td>22.68</td>\n",
       "      <td>4.59</td>\n",
       "      <td>1.17</td>\n",
       "      <td>9.20</td>\n",
       "      <td>11.35000</td>\n",
       "      <td>0.170000</td>\n",
       "      <td>7.402406</td>\n",
       "      <td>1.197632</td>\n",
       "      <td>170.088957</td>\n",
       "    </tr>\n",
       "    <tr>\n",
       "      <th>1</th>\n",
       "      <td>2015-01-02</td>\n",
       "      <td>Chennai</td>\n",
       "      <td>77.394417</td>\n",
       "      <td>149.388739</td>\n",
       "      <td>16.49</td>\n",
       "      <td>13.42</td>\n",
       "      <td>23.09</td>\n",
       "      <td>7.83</td>\n",
       "      <td>1.23</td>\n",
       "      <td>8.61</td>\n",
       "      <td>9.16000</td>\n",
       "      <td>0.130000</td>\n",
       "      <td>7.402406</td>\n",
       "      <td>1.197632</td>\n",
       "      <td>170.088957</td>\n",
       "    </tr>\n",
       "    <tr>\n",
       "      <th>2</th>\n",
       "      <td>2015-01-03</td>\n",
       "      <td>Chennai</td>\n",
       "      <td>77.394417</td>\n",
       "      <td>149.388739</td>\n",
       "      <td>9.72</td>\n",
       "      <td>19.56</td>\n",
       "      <td>9.99</td>\n",
       "      <td>4.63</td>\n",
       "      <td>0.77</td>\n",
       "      <td>20.56</td>\n",
       "      <td>13.45000</td>\n",
       "      <td>0.030000</td>\n",
       "      <td>7.402406</td>\n",
       "      <td>1.197632</td>\n",
       "      <td>170.088957</td>\n",
       "    </tr>\n",
       "    <tr>\n",
       "      <th>3</th>\n",
       "      <td>2015-01-04</td>\n",
       "      <td>Chennai</td>\n",
       "      <td>77.394417</td>\n",
       "      <td>149.388739</td>\n",
       "      <td>9.60</td>\n",
       "      <td>16.20</td>\n",
       "      <td>11.71</td>\n",
       "      <td>5.23</td>\n",
       "      <td>1.00</td>\n",
       "      <td>20.56</td>\n",
       "      <td>10.33000</td>\n",
       "      <td>2.120333</td>\n",
       "      <td>7.402406</td>\n",
       "      <td>1.197632</td>\n",
       "      <td>170.088957</td>\n",
       "    </tr>\n",
       "    <tr>\n",
       "      <th>4</th>\n",
       "      <td>2015-01-05</td>\n",
       "      <td>Chennai</td>\n",
       "      <td>77.394417</td>\n",
       "      <td>149.388739</td>\n",
       "      <td>9.16</td>\n",
       "      <td>16.30</td>\n",
       "      <td>12.94</td>\n",
       "      <td>5.50</td>\n",
       "      <td>0.90</td>\n",
       "      <td>16.60</td>\n",
       "      <td>9.36000</td>\n",
       "      <td>2.120333</td>\n",
       "      <td>7.402406</td>\n",
       "      <td>1.197632</td>\n",
       "      <td>170.088957</td>\n",
       "    </tr>\n",
       "    <tr>\n",
       "      <th>...</th>\n",
       "      <td>...</td>\n",
       "      <td>...</td>\n",
       "      <td>...</td>\n",
       "      <td>...</td>\n",
       "      <td>...</td>\n",
       "      <td>...</td>\n",
       "      <td>...</td>\n",
       "      <td>...</td>\n",
       "      <td>...</td>\n",
       "      <td>...</td>\n",
       "      <td>...</td>\n",
       "      <td>...</td>\n",
       "      <td>...</td>\n",
       "      <td>...</td>\n",
       "      <td>...</td>\n",
       "    </tr>\n",
       "    <tr>\n",
       "      <th>2004</th>\n",
       "      <td>2020-06-27</td>\n",
       "      <td>Chennai</td>\n",
       "      <td>26.420000</td>\n",
       "      <td>83.998141</td>\n",
       "      <td>7.25</td>\n",
       "      <td>12.96</td>\n",
       "      <td>19.59</td>\n",
       "      <td>33.20</td>\n",
       "      <td>1.10</td>\n",
       "      <td>7.29</td>\n",
       "      <td>68.51000</td>\n",
       "      <td>0.100000</td>\n",
       "      <td>0.070000</td>\n",
       "      <td>1.197632</td>\n",
       "      <td>95.000000</td>\n",
       "    </tr>\n",
       "    <tr>\n",
       "      <th>2005</th>\n",
       "      <td>2020-06-28</td>\n",
       "      <td>Chennai</td>\n",
       "      <td>25.930000</td>\n",
       "      <td>83.998141</td>\n",
       "      <td>7.81</td>\n",
       "      <td>10.00</td>\n",
       "      <td>16.39</td>\n",
       "      <td>35.98</td>\n",
       "      <td>0.76</td>\n",
       "      <td>6.48</td>\n",
       "      <td>72.40625</td>\n",
       "      <td>0.090000</td>\n",
       "      <td>0.000000</td>\n",
       "      <td>1.197632</td>\n",
       "      <td>98.000000</td>\n",
       "    </tr>\n",
       "    <tr>\n",
       "      <th>2006</th>\n",
       "      <td>2020-06-29</td>\n",
       "      <td>Chennai</td>\n",
       "      <td>21.300000</td>\n",
       "      <td>83.998141</td>\n",
       "      <td>7.65</td>\n",
       "      <td>9.69</td>\n",
       "      <td>16.74</td>\n",
       "      <td>34.07</td>\n",
       "      <td>0.96</td>\n",
       "      <td>6.62</td>\n",
       "      <td>62.57000</td>\n",
       "      <td>0.090000</td>\n",
       "      <td>0.010000</td>\n",
       "      <td>1.197632</td>\n",
       "      <td>104.000000</td>\n",
       "    </tr>\n",
       "    <tr>\n",
       "      <th>2007</th>\n",
       "      <td>2020-06-30</td>\n",
       "      <td>Chennai</td>\n",
       "      <td>24.140000</td>\n",
       "      <td>83.998141</td>\n",
       "      <td>8.42</td>\n",
       "      <td>12.38</td>\n",
       "      <td>20.29</td>\n",
       "      <td>34.17</td>\n",
       "      <td>1.05</td>\n",
       "      <td>7.50</td>\n",
       "      <td>68.75000</td>\n",
       "      <td>0.170000</td>\n",
       "      <td>0.160000</td>\n",
       "      <td>1.197632</td>\n",
       "      <td>110.000000</td>\n",
       "    </tr>\n",
       "    <tr>\n",
       "      <th>2008</th>\n",
       "      <td>2020-07-01</td>\n",
       "      <td>Chennai</td>\n",
       "      <td>15.950000</td>\n",
       "      <td>83.998141</td>\n",
       "      <td>6.22</td>\n",
       "      <td>10.72</td>\n",
       "      <td>16.44</td>\n",
       "      <td>33.52</td>\n",
       "      <td>1.02</td>\n",
       "      <td>9.23</td>\n",
       "      <td>48.37000</td>\n",
       "      <td>0.090000</td>\n",
       "      <td>0.000000</td>\n",
       "      <td>1.197632</td>\n",
       "      <td>92.000000</td>\n",
       "    </tr>\n",
       "  </tbody>\n",
       "</table>\n",
       "<p>2009 rows × 15 columns</p>\n",
       "</div>"
      ],
      "text/plain": [
       "            Date     City      PM2.5        PM10     NO    NO2    NOx    NH3  \\\n",
       "0     2015-01-01  Chennai  77.394417  149.388739  16.30  15.39  22.68   4.59   \n",
       "1     2015-01-02  Chennai  77.394417  149.388739  16.49  13.42  23.09   7.83   \n",
       "2     2015-01-03  Chennai  77.394417  149.388739   9.72  19.56   9.99   4.63   \n",
       "3     2015-01-04  Chennai  77.394417  149.388739   9.60  16.20  11.71   5.23   \n",
       "4     2015-01-05  Chennai  77.394417  149.388739   9.16  16.30  12.94   5.50   \n",
       "...          ...      ...        ...         ...    ...    ...    ...    ...   \n",
       "2004  2020-06-27  Chennai  26.420000   83.998141   7.25  12.96  19.59  33.20   \n",
       "2005  2020-06-28  Chennai  25.930000   83.998141   7.81  10.00  16.39  35.98   \n",
       "2006  2020-06-29  Chennai  21.300000   83.998141   7.65   9.69  16.74  34.07   \n",
       "2007  2020-06-30  Chennai  24.140000   83.998141   8.42  12.38  20.29  34.17   \n",
       "2008  2020-07-01  Chennai  15.950000   83.998141   6.22  10.72  16.44  33.52   \n",
       "\n",
       "        CO    SO2        O3   Benzene   Toluene    Xylene         AQI  \n",
       "0     1.17   9.20  11.35000  0.170000  7.402406  1.197632  170.088957  \n",
       "1     1.23   8.61   9.16000  0.130000  7.402406  1.197632  170.088957  \n",
       "2     0.77  20.56  13.45000  0.030000  7.402406  1.197632  170.088957  \n",
       "3     1.00  20.56  10.33000  2.120333  7.402406  1.197632  170.088957  \n",
       "4     0.90  16.60   9.36000  2.120333  7.402406  1.197632  170.088957  \n",
       "...    ...    ...       ...       ...       ...       ...         ...  \n",
       "2004  1.10   7.29  68.51000  0.100000  0.070000  1.197632   95.000000  \n",
       "2005  0.76   6.48  72.40625  0.090000  0.000000  1.197632   98.000000  \n",
       "2006  0.96   6.62  62.57000  0.090000  0.010000  1.197632  104.000000  \n",
       "2007  1.05   7.50  68.75000  0.170000  0.160000  1.197632  110.000000  \n",
       "2008  1.02   9.23  48.37000  0.090000  0.000000  1.197632   92.000000  \n",
       "\n",
       "[2009 rows x 15 columns]"
      ]
     },
     "execution_count": 4,
     "metadata": {},
     "output_type": "execute_result"
    }
   ],
   "source": [
    "dataset"
   ]
  },
  {
   "cell_type": "code",
   "execution_count": 5,
   "id": "934b04ba-bcf7-4cbf-886e-a2c8a78667ec",
   "metadata": {},
   "outputs": [
    {
     "data": {
      "text/plain": [
       "City\n",
       "Chennai    2009\n",
       "Name: count, dtype: int64"
      ]
     },
     "execution_count": 5,
     "metadata": {},
     "output_type": "execute_result"
    }
   ],
   "source": [
    "dataset[\"City\"].value_counts()"
   ]
  },
  {
   "cell_type": "code",
   "execution_count": 6,
   "id": "1f23201f-6859-4874-9674-018bf2201263",
   "metadata": {},
   "outputs": [
    {
     "data": {
      "text/plain": [
       "Date       0\n",
       "City       0\n",
       "PM2.5      0\n",
       "PM10       0\n",
       "NO         0\n",
       "NO2        0\n",
       "NOx        0\n",
       "NH3        0\n",
       "CO         0\n",
       "SO2        0\n",
       "O3         0\n",
       "Benzene    0\n",
       "Toluene    0\n",
       "Xylene     0\n",
       "AQI        0\n",
       "dtype: int64"
      ]
     },
     "execution_count": 6,
     "metadata": {},
     "output_type": "execute_result"
    }
   ],
   "source": [
    "dataset.isnull().sum()"
   ]
  },
  {
   "cell_type": "code",
   "execution_count": 7,
   "id": "4d35c523-f054-4f2d-a64a-65bd56b2a4fc",
   "metadata": {},
   "outputs": [],
   "source": [
    "timedata=pd.DataFrame()"
   ]
  },
  {
   "cell_type": "code",
   "execution_count": 8,
   "id": "57fd6ed9-2834-40e5-a02f-762c37ed2526",
   "metadata": {},
   "outputs": [],
   "source": [
    "timedata[\"Date\"]=dataset[\"Date\"]\n",
    "timedata[\"AQI\"]=dataset[\"AQI\"]"
   ]
  },
  {
   "cell_type": "code",
   "execution_count": 9,
   "id": "db66f4aa-ea5d-4a02-b914-8ed7d700c52a",
   "metadata": {},
   "outputs": [
    {
     "data": {
      "text/html": [
       "<div>\n",
       "<style scoped>\n",
       "    .dataframe tbody tr th:only-of-type {\n",
       "        vertical-align: middle;\n",
       "    }\n",
       "\n",
       "    .dataframe tbody tr th {\n",
       "        vertical-align: top;\n",
       "    }\n",
       "\n",
       "    .dataframe thead th {\n",
       "        text-align: right;\n",
       "    }\n",
       "</style>\n",
       "<table border=\"1\" class=\"dataframe\">\n",
       "  <thead>\n",
       "    <tr style=\"text-align: right;\">\n",
       "      <th></th>\n",
       "      <th>Date</th>\n",
       "      <th>AQI</th>\n",
       "    </tr>\n",
       "  </thead>\n",
       "  <tbody>\n",
       "    <tr>\n",
       "      <th>0</th>\n",
       "      <td>2015-01-01</td>\n",
       "      <td>170.088957</td>\n",
       "    </tr>\n",
       "    <tr>\n",
       "      <th>1</th>\n",
       "      <td>2015-01-02</td>\n",
       "      <td>170.088957</td>\n",
       "    </tr>\n",
       "    <tr>\n",
       "      <th>2</th>\n",
       "      <td>2015-01-03</td>\n",
       "      <td>170.088957</td>\n",
       "    </tr>\n",
       "    <tr>\n",
       "      <th>3</th>\n",
       "      <td>2015-01-04</td>\n",
       "      <td>170.088957</td>\n",
       "    </tr>\n",
       "    <tr>\n",
       "      <th>4</th>\n",
       "      <td>2015-01-05</td>\n",
       "      <td>170.088957</td>\n",
       "    </tr>\n",
       "    <tr>\n",
       "      <th>...</th>\n",
       "      <td>...</td>\n",
       "      <td>...</td>\n",
       "    </tr>\n",
       "    <tr>\n",
       "      <th>2004</th>\n",
       "      <td>2020-06-27</td>\n",
       "      <td>95.000000</td>\n",
       "    </tr>\n",
       "    <tr>\n",
       "      <th>2005</th>\n",
       "      <td>2020-06-28</td>\n",
       "      <td>98.000000</td>\n",
       "    </tr>\n",
       "    <tr>\n",
       "      <th>2006</th>\n",
       "      <td>2020-06-29</td>\n",
       "      <td>104.000000</td>\n",
       "    </tr>\n",
       "    <tr>\n",
       "      <th>2007</th>\n",
       "      <td>2020-06-30</td>\n",
       "      <td>110.000000</td>\n",
       "    </tr>\n",
       "    <tr>\n",
       "      <th>2008</th>\n",
       "      <td>2020-07-01</td>\n",
       "      <td>92.000000</td>\n",
       "    </tr>\n",
       "  </tbody>\n",
       "</table>\n",
       "<p>2009 rows × 2 columns</p>\n",
       "</div>"
      ],
      "text/plain": [
       "            Date         AQI\n",
       "0     2015-01-01  170.088957\n",
       "1     2015-01-02  170.088957\n",
       "2     2015-01-03  170.088957\n",
       "3     2015-01-04  170.088957\n",
       "4     2015-01-05  170.088957\n",
       "...          ...         ...\n",
       "2004  2020-06-27   95.000000\n",
       "2005  2020-06-28   98.000000\n",
       "2006  2020-06-29  104.000000\n",
       "2007  2020-06-30  110.000000\n",
       "2008  2020-07-01   92.000000\n",
       "\n",
       "[2009 rows x 2 columns]"
      ]
     },
     "execution_count": 9,
     "metadata": {},
     "output_type": "execute_result"
    }
   ],
   "source": [
    "timedata"
   ]
  },
  {
   "cell_type": "code",
   "execution_count": 10,
   "id": "f35ac746-c40e-4504-8e17-115f07fdd3af",
   "metadata": {},
   "outputs": [],
   "source": [
    "data=timedata[\"AQI\"]"
   ]
  },
  {
   "cell_type": "code",
   "execution_count": 11,
   "id": "863b1ffa-e833-4de8-9e92-c4c73e1b96c7",
   "metadata": {},
   "outputs": [
    {
     "data": {
      "text/plain": [
       "0       170.088957\n",
       "1       170.088957\n",
       "2       170.088957\n",
       "3       170.088957\n",
       "4       170.088957\n",
       "           ...    \n",
       "2004     95.000000\n",
       "2005     98.000000\n",
       "2006    104.000000\n",
       "2007    110.000000\n",
       "2008     92.000000\n",
       "Name: AQI, Length: 2009, dtype: float64"
      ]
     },
     "execution_count": 11,
     "metadata": {},
     "output_type": "execute_result"
    }
   ],
   "source": [
    "data"
   ]
  },
  {
   "cell_type": "code",
   "execution_count": 12,
   "id": "dd08a5c8-d89a-4ea7-b73b-9d3b3e1af16c",
   "metadata": {},
   "outputs": [],
   "source": [
    "data_train=data.head(1500)"
   ]
  },
  {
   "cell_type": "code",
   "execution_count": 13,
   "id": "b76c3116-346a-4dae-afb3-229752d62343",
   "metadata": {},
   "outputs": [],
   "source": [
    "data_test=data.tail(509)"
   ]
  },
  {
   "cell_type": "code",
   "execution_count": null,
   "id": "50cc6684-54b8-4c15-a094-6d7029dca2a7",
   "metadata": {},
   "outputs": [],
   "source": []
  },
  {
   "cell_type": "code",
   "execution_count": 14,
   "id": "ec99136a-bcef-407c-87e3-9f6815d3ab9b",
   "metadata": {},
   "outputs": [],
   "source": [
    "from statsmodels.tsa.arima.model import ARIMA\n",
    "model = ARIMA(data_train, order=(2,0,1))#Autoregressive Moving Average (ARMA)\n",
    "model_fit = model.fit()"
   ]
  },
  {
   "cell_type": "code",
   "execution_count": 15,
   "id": "d0f66009-97fa-4133-a5db-0a50335a404b",
   "metadata": {},
   "outputs": [
    {
     "name": "stdout",
     "output_type": "stream",
     "text": [
      "1500    101.605252\n",
      "1501    110.125751\n",
      "1502    115.101012\n",
      "1503    118.010637\n",
      "1504    119.716691\n",
      "           ...    \n",
      "2004    126.026244\n",
      "2005    126.027363\n",
      "2006    126.028475\n",
      "2007    126.029580\n",
      "2008    126.030677\n",
      "Name: predicted_mean, Length: 509, dtype: float64\n"
     ]
    }
   ],
   "source": [
    "# make prediction\n",
    "y_pred= model_fit.predict(len(data_train), len(data)-1)\n",
    "print(y_pred)"
   ]
  },
  {
   "cell_type": "code",
   "execution_count": 16,
   "id": "9a5a61da-00d2-486b-8c56-8a5a91d9a551",
   "metadata": {},
   "outputs": [
    {
     "name": "stdout",
     "output_type": "stream",
     "text": [
      "r2=-0.7714391027435739\n"
     ]
    }
   ],
   "source": [
    "from sklearn.metrics import r2_score\n",
    "r2=r2_score(data_test,y_pred)\n",
    "print(\"r2={}\".format(r2))"
   ]
  },
  {
   "cell_type": "code",
   "execution_count": 20,
   "id": "9de34623-7849-4a35-a5bf-90b84249e467",
   "metadata": {},
   "outputs": [
    {
     "name": "stdout",
     "output_type": "stream",
     "text": [
      "1500    101.605252\n",
      "1501    110.125751\n",
      "1502    115.101012\n",
      "1503    118.010637\n",
      "1504    119.716691\n",
      "           ...    \n",
      "2004    126.026244\n",
      "2005    126.027363\n",
      "2006    126.028475\n",
      "2007    126.029580\n",
      "2008    126.030677\n",
      "Name: predicted_mean, Length: 509, dtype: float64\n",
      "Order=(0, 0, 0) ,r2=-0.7714391027435739\n",
      "1500    101.605252\n",
      "1501    110.125751\n",
      "1502    115.101012\n",
      "1503    118.010637\n",
      "1504    119.716691\n",
      "           ...    \n",
      "2004    126.026244\n",
      "2005    126.027363\n",
      "2006    126.028475\n",
      "2007    126.029580\n",
      "2008    126.030677\n",
      "Name: predicted_mean, Length: 509, dtype: float64\n",
      "Order=(0, 0, 1) ,r2=-0.7714391027435739\n",
      "1500    101.605252\n",
      "1501    110.125751\n",
      "1502    115.101012\n",
      "1503    118.010637\n",
      "1504    119.716691\n",
      "           ...    \n",
      "2004    126.026244\n",
      "2005    126.027363\n",
      "2006    126.028475\n",
      "2007    126.029580\n",
      "2008    126.030677\n",
      "Name: predicted_mean, Length: 509, dtype: float64\n",
      "Order=(2, 0, 1) ,r2=-0.7714391027435739\n"
     ]
    }
   ],
   "source": [
    "#AR(0) model, with no autoregressive, differencing, or moving average terms.\n",
    "# MA(1) model, with no autoregressive term and one moving average term.\n",
    "#ARMA(2,1) model, with two autoregressive terms and one moving average term.\n",
    "orders=[(0,0,0),(0,0,1),(2,0,1)]    #AR , MA , ARMA\n",
    "orderslist=[]\n",
    "rscorelist=[]                       #rscore for all AR , MA , ARMA\n",
    "for i in orders:\n",
    "    orderslist.append(i)\n",
    "    \n",
    "    from statsmodels.tsa.arima.model import ARIMA\n",
    "    model = ARIMA(data_train, order=(2,0,1))\n",
    "    model_fit = model.fit()\n",
    "    # make prediction\n",
    "    y_pred= model_fit.predict(len(data_train), len(data)-1)\n",
    "    print(y_pred)\n",
    "    from sklearn.metrics import r2_score\n",
    "    r2=r2_score(data_test,y_pred)\n",
    "    rscorelist.append(r2)\n",
    "    print(\"Order={} ,r2={}\".format(i,r2))"
   ]
  },
  {
   "cell_type": "code",
   "execution_count": 21,
   "id": "b754aeff-bc87-48ee-aae6-ab2370c22dca",
   "metadata": {},
   "outputs": [
    {
     "data": {
      "text/plain": [
       "[-0.7714391027435739, -0.7714391027435739, -0.7714391027435739]"
      ]
     },
     "execution_count": 21,
     "metadata": {},
     "output_type": "execute_result"
    }
   ],
   "source": [
    "rscorelist"
   ]
  },
  {
   "cell_type": "code",
   "execution_count": 22,
   "id": "3bc552c3-f65c-45cc-8069-cd781eca3b5c",
   "metadata": {},
   "outputs": [],
   "source": [
    "result=pd.DataFrame()"
   ]
  },
  {
   "cell_type": "code",
   "execution_count": 24,
   "id": "e84922ec-47ff-4a10-a03a-4c755b348796",
   "metadata": {},
   "outputs": [],
   "source": [
    "result.insert(0,\"Order\",orderslist)"
   ]
  },
  {
   "cell_type": "code",
   "execution_count": 25,
   "id": "b0e5add4-19b0-42db-b8a5-dd8d4a455677",
   "metadata": {},
   "outputs": [
    {
     "data": {
      "text/html": [
       "<div>\n",
       "<style scoped>\n",
       "    .dataframe tbody tr th:only-of-type {\n",
       "        vertical-align: middle;\n",
       "    }\n",
       "\n",
       "    .dataframe tbody tr th {\n",
       "        vertical-align: top;\n",
       "    }\n",
       "\n",
       "    .dataframe thead th {\n",
       "        text-align: right;\n",
       "    }\n",
       "</style>\n",
       "<table border=\"1\" class=\"dataframe\">\n",
       "  <thead>\n",
       "    <tr style=\"text-align: right;\">\n",
       "      <th></th>\n",
       "      <th>Order</th>\n",
       "    </tr>\n",
       "  </thead>\n",
       "  <tbody>\n",
       "    <tr>\n",
       "      <th>0</th>\n",
       "      <td>(0, 0, 0)</td>\n",
       "    </tr>\n",
       "    <tr>\n",
       "      <th>1</th>\n",
       "      <td>(0, 0, 1)</td>\n",
       "    </tr>\n",
       "    <tr>\n",
       "      <th>2</th>\n",
       "      <td>(2, 0, 1)</td>\n",
       "    </tr>\n",
       "  </tbody>\n",
       "</table>\n",
       "</div>"
      ],
      "text/plain": [
       "       Order\n",
       "0  (0, 0, 0)\n",
       "1  (0, 0, 1)\n",
       "2  (2, 0, 1)"
      ]
     },
     "execution_count": 25,
     "metadata": {},
     "output_type": "execute_result"
    }
   ],
   "source": [
    "result"
   ]
  },
  {
   "cell_type": "code",
   "execution_count": 26,
   "id": "11a03725-f509-4bd4-96f1-73e5b0a14616",
   "metadata": {},
   "outputs": [],
   "source": [
    "result.insert(1,\"R_score\",rscorelist)"
   ]
  },
  {
   "cell_type": "code",
   "execution_count": 27,
   "id": "0dc1a126-5b74-4e73-ad13-d05a478586fd",
   "metadata": {},
   "outputs": [
    {
     "data": {
      "text/html": [
       "<div>\n",
       "<style scoped>\n",
       "    .dataframe tbody tr th:only-of-type {\n",
       "        vertical-align: middle;\n",
       "    }\n",
       "\n",
       "    .dataframe tbody tr th {\n",
       "        vertical-align: top;\n",
       "    }\n",
       "\n",
       "    .dataframe thead th {\n",
       "        text-align: right;\n",
       "    }\n",
       "</style>\n",
       "<table border=\"1\" class=\"dataframe\">\n",
       "  <thead>\n",
       "    <tr style=\"text-align: right;\">\n",
       "      <th></th>\n",
       "      <th>Order</th>\n",
       "      <th>R_score</th>\n",
       "    </tr>\n",
       "  </thead>\n",
       "  <tbody>\n",
       "    <tr>\n",
       "      <th>0</th>\n",
       "      <td>(0, 0, 0)</td>\n",
       "      <td>-0.771439</td>\n",
       "    </tr>\n",
       "    <tr>\n",
       "      <th>1</th>\n",
       "      <td>(0, 0, 1)</td>\n",
       "      <td>-0.771439</td>\n",
       "    </tr>\n",
       "    <tr>\n",
       "      <th>2</th>\n",
       "      <td>(2, 0, 1)</td>\n",
       "      <td>-0.771439</td>\n",
       "    </tr>\n",
       "  </tbody>\n",
       "</table>\n",
       "</div>"
      ],
      "text/plain": [
       "       Order   R_score\n",
       "0  (0, 0, 0) -0.771439\n",
       "1  (0, 0, 1) -0.771439\n",
       "2  (2, 0, 1) -0.771439"
      ]
     },
     "execution_count": 27,
     "metadata": {},
     "output_type": "execute_result"
    }
   ],
   "source": [
    "result"
   ]
  },
  {
   "cell_type": "code",
   "execution_count": null,
   "id": "0554e0e3-1736-4697-b6c7-d09e423ed018",
   "metadata": {},
   "outputs": [],
   "source": []
  },
  {
   "cell_type": "code",
   "execution_count": 28,
   "id": "6227fbe0-aafd-49d8-b9ef-d5d11f93d5aa",
   "metadata": {},
   "outputs": [
    {
     "data": {
      "text/plain": [
       "2009    126.031768\n",
       "2010    126.032852\n",
       "2011    126.033930\n",
       "2012    126.035000\n",
       "2013    126.036064\n",
       "2014    126.037121\n",
       "Name: predicted_mean, dtype: float64"
      ]
     },
     "execution_count": 28,
     "metadata": {},
     "output_type": "execute_result"
    }
   ],
   "source": [
    "model_fit.predict(len(data), len(data)+5)    #next 5 days"
   ]
  },
  {
   "cell_type": "code",
   "execution_count": null,
   "id": "fe4ece34-00e8-489c-b425-6e0342cea5da",
   "metadata": {},
   "outputs": [],
   "source": []
  }
 ],
 "metadata": {
  "kernelspec": {
   "display_name": "Python 3 (ipykernel)",
   "language": "python",
   "name": "python3"
  },
  "language_info": {
   "codemirror_mode": {
    "name": "ipython",
    "version": 3
   },
   "file_extension": ".py",
   "mimetype": "text/x-python",
   "name": "python",
   "nbconvert_exporter": "python",
   "pygments_lexer": "ipython3",
   "version": "3.10.14"
  }
 },
 "nbformat": 4,
 "nbformat_minor": 5
}
