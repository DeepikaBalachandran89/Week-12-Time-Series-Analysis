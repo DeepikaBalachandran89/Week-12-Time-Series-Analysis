{
 "cells": [
  {
   "cell_type": "code",
   "execution_count": 1,
   "id": "6ce46ac3-0bad-45c0-bb66-c5347e1e3e5a",
   "metadata": {},
   "outputs": [],
   "source": [
    "import pandas as pd"
   ]
  },
  {
   "cell_type": "code",
   "execution_count": 2,
   "id": "7065c37c-49be-46cb-908f-3e1ec11a655e",
   "metadata": {},
   "outputs": [],
   "source": [
    "from nsepy import get_history as gh\n",
    "import datetime as dt"
   ]
  },
  {
   "cell_type": "code",
   "execution_count": 3,
   "id": "26b5bf7b-4b89-4ed8-a2de-89bf36b8e178",
   "metadata": {},
   "outputs": [
    {
     "name": "stderr",
     "output_type": "stream",
     "text": [
      "[*********************100%%**********************]  1 of 1 completed\n"
     ]
    },
    {
     "data": {
      "text/html": [
       "<div>\n",
       "<style scoped>\n",
       "    .dataframe tbody tr th:only-of-type {\n",
       "        vertical-align: middle;\n",
       "    }\n",
       "\n",
       "    .dataframe tbody tr th {\n",
       "        vertical-align: top;\n",
       "    }\n",
       "\n",
       "    .dataframe thead th {\n",
       "        text-align: right;\n",
       "    }\n",
       "</style>\n",
       "<table border=\"1\" class=\"dataframe\">\n",
       "  <thead>\n",
       "    <tr style=\"text-align: right;\">\n",
       "      <th></th>\n",
       "      <th>Open</th>\n",
       "      <th>High</th>\n",
       "      <th>Low</th>\n",
       "      <th>Close</th>\n",
       "      <th>Adj Close</th>\n",
       "      <th>Volume</th>\n",
       "    </tr>\n",
       "    <tr>\n",
       "      <th>Date</th>\n",
       "      <th></th>\n",
       "      <th></th>\n",
       "      <th></th>\n",
       "      <th></th>\n",
       "      <th></th>\n",
       "      <th></th>\n",
       "    </tr>\n",
       "  </thead>\n",
       "  <tbody>\n",
       "    <tr>\n",
       "      <th>2021-07-01</th>\n",
       "      <td>750.000000</td>\n",
       "      <td>754.400024</td>\n",
       "      <td>744.500000</td>\n",
       "      <td>746.450012</td>\n",
       "      <td>743.209473</td>\n",
       "      <td>5695690</td>\n",
       "    </tr>\n",
       "    <tr>\n",
       "      <th>2021-07-02</th>\n",
       "      <td>747.599976</td>\n",
       "      <td>752.849976</td>\n",
       "      <td>744.000000</td>\n",
       "      <td>750.650024</td>\n",
       "      <td>747.391296</td>\n",
       "      <td>3557647</td>\n",
       "    </tr>\n",
       "    <tr>\n",
       "      <th>2021-07-05</th>\n",
       "      <td>757.099976</td>\n",
       "      <td>762.000000</td>\n",
       "      <td>753.400024</td>\n",
       "      <td>760.349976</td>\n",
       "      <td>757.049133</td>\n",
       "      <td>4680089</td>\n",
       "    </tr>\n",
       "    <tr>\n",
       "      <th>2021-07-06</th>\n",
       "      <td>757.000000</td>\n",
       "      <td>767.000000</td>\n",
       "      <td>755.200012</td>\n",
       "      <td>758.349976</td>\n",
       "      <td>755.057800</td>\n",
       "      <td>5529485</td>\n",
       "    </tr>\n",
       "    <tr>\n",
       "      <th>2021-07-07</th>\n",
       "      <td>755.900024</td>\n",
       "      <td>764.000000</td>\n",
       "      <td>752.250000</td>\n",
       "      <td>762.900024</td>\n",
       "      <td>759.588074</td>\n",
       "      <td>3573368</td>\n",
       "    </tr>\n",
       "    <tr>\n",
       "      <th>...</th>\n",
       "      <td>...</td>\n",
       "      <td>...</td>\n",
       "      <td>...</td>\n",
       "      <td>...</td>\n",
       "      <td>...</td>\n",
       "      <td>...</td>\n",
       "    </tr>\n",
       "    <tr>\n",
       "      <th>2022-01-19</th>\n",
       "      <td>725.200012</td>\n",
       "      <td>731.950012</td>\n",
       "      <td>718.700012</td>\n",
       "      <td>729.599976</td>\n",
       "      <td>726.432617</td>\n",
       "      <td>7746270</td>\n",
       "    </tr>\n",
       "    <tr>\n",
       "      <th>2022-01-20</th>\n",
       "      <td>731.049988</td>\n",
       "      <td>737.150024</td>\n",
       "      <td>722.150024</td>\n",
       "      <td>728.900024</td>\n",
       "      <td>725.735657</td>\n",
       "      <td>8505400</td>\n",
       "    </tr>\n",
       "    <tr>\n",
       "      <th>2022-01-21</th>\n",
       "      <td>722.000000</td>\n",
       "      <td>725.250000</td>\n",
       "      <td>708.049988</td>\n",
       "      <td>712.500000</td>\n",
       "      <td>709.406921</td>\n",
       "      <td>10689060</td>\n",
       "    </tr>\n",
       "    <tr>\n",
       "      <th>2022-01-24</th>\n",
       "      <td>715.000000</td>\n",
       "      <td>716.400024</td>\n",
       "      <td>688.200012</td>\n",
       "      <td>704.599976</td>\n",
       "      <td>701.541138</td>\n",
       "      <td>8812501</td>\n",
       "    </tr>\n",
       "    <tr>\n",
       "      <th>2022-01-25</th>\n",
       "      <td>714.000000</td>\n",
       "      <td>755.000000</td>\n",
       "      <td>708.599976</td>\n",
       "      <td>752.200012</td>\n",
       "      <td>748.934570</td>\n",
       "      <td>38088158</td>\n",
       "    </tr>\n",
       "  </tbody>\n",
       "</table>\n",
       "<p>143 rows × 6 columns</p>\n",
       "</div>"
      ],
      "text/plain": [
       "                  Open        High         Low       Close   Adj Close  \\\n",
       "Date                                                                     \n",
       "2021-07-01  750.000000  754.400024  744.500000  746.450012  743.209473   \n",
       "2021-07-02  747.599976  752.849976  744.000000  750.650024  747.391296   \n",
       "2021-07-05  757.099976  762.000000  753.400024  760.349976  757.049133   \n",
       "2021-07-06  757.000000  767.000000  755.200012  758.349976  755.057800   \n",
       "2021-07-07  755.900024  764.000000  752.250000  762.900024  759.588074   \n",
       "...                ...         ...         ...         ...         ...   \n",
       "2022-01-19  725.200012  731.950012  718.700012  729.599976  726.432617   \n",
       "2022-01-20  731.049988  737.150024  722.150024  728.900024  725.735657   \n",
       "2022-01-21  722.000000  725.250000  708.049988  712.500000  709.406921   \n",
       "2022-01-24  715.000000  716.400024  688.200012  704.599976  701.541138   \n",
       "2022-01-25  714.000000  755.000000  708.599976  752.200012  748.934570   \n",
       "\n",
       "              Volume  \n",
       "Date                  \n",
       "2021-07-01   5695690  \n",
       "2021-07-02   3557647  \n",
       "2021-07-05   4680089  \n",
       "2021-07-06   5529485  \n",
       "2021-07-07   3573368  \n",
       "...              ...  \n",
       "2022-01-19   7746270  \n",
       "2022-01-20   8505400  \n",
       "2022-01-21  10689060  \n",
       "2022-01-24   8812501  \n",
       "2022-01-25  38088158  \n",
       "\n",
       "[143 rows x 6 columns]"
      ]
     },
     "execution_count": 3,
     "metadata": {},
     "output_type": "execute_result"
    }
   ],
   "source": [
    "import yfinance as yf\n",
    "\n",
    "start = dt.datetime(2021, 7, 1)    #July 1, 2021, to January 27, 2022.\n",
    "end = dt.datetime(2022, 1, 27)\n",
    "symbol='AXISBANK.NS'\n",
    "stk_data = yf.download(symbol, start=start, end=end)\n",
    "stk_data"
   ]
  },
  {
   "cell_type": "code",
   "execution_count": 4,
   "id": "e732e609-1f66-4988-b02d-6929cb253d1d",
   "metadata": {},
   "outputs": [],
   "source": [
    "stk_data=stk_data[[\"Open\",\"High\",\"Low\",\"Close\"]]"
   ]
  },
  {
   "cell_type": "code",
   "execution_count": 5,
   "id": "4f3cd374-2d68-4e41-b874-3192503174a2",
   "metadata": {},
   "outputs": [],
   "source": [
    "column=\"Close\""
   ]
  },
  {
   "cell_type": "code",
   "execution_count": 6,
   "id": "cc9872e1-94b7-48cd-9443-54e67c628861",
   "metadata": {},
   "outputs": [
    {
     "data": {
      "text/html": [
       "<div>\n",
       "<style scoped>\n",
       "    .dataframe tbody tr th:only-of-type {\n",
       "        vertical-align: middle;\n",
       "    }\n",
       "\n",
       "    .dataframe tbody tr th {\n",
       "        vertical-align: top;\n",
       "    }\n",
       "\n",
       "    .dataframe thead th {\n",
       "        text-align: right;\n",
       "    }\n",
       "</style>\n",
       "<table border=\"1\" class=\"dataframe\">\n",
       "  <thead>\n",
       "    <tr style=\"text-align: right;\">\n",
       "      <th></th>\n",
       "      <th>Open</th>\n",
       "      <th>High</th>\n",
       "      <th>Low</th>\n",
       "      <th>Close</th>\n",
       "    </tr>\n",
       "    <tr>\n",
       "      <th>Date</th>\n",
       "      <th></th>\n",
       "      <th></th>\n",
       "      <th></th>\n",
       "      <th></th>\n",
       "    </tr>\n",
       "  </thead>\n",
       "  <tbody>\n",
       "    <tr>\n",
       "      <th>2021-07-01</th>\n",
       "      <td>750.000000</td>\n",
       "      <td>754.400024</td>\n",
       "      <td>744.500000</td>\n",
       "      <td>746.450012</td>\n",
       "    </tr>\n",
       "    <tr>\n",
       "      <th>2021-07-02</th>\n",
       "      <td>747.599976</td>\n",
       "      <td>752.849976</td>\n",
       "      <td>744.000000</td>\n",
       "      <td>750.650024</td>\n",
       "    </tr>\n",
       "    <tr>\n",
       "      <th>2021-07-05</th>\n",
       "      <td>757.099976</td>\n",
       "      <td>762.000000</td>\n",
       "      <td>753.400024</td>\n",
       "      <td>760.349976</td>\n",
       "    </tr>\n",
       "    <tr>\n",
       "      <th>2021-07-06</th>\n",
       "      <td>757.000000</td>\n",
       "      <td>767.000000</td>\n",
       "      <td>755.200012</td>\n",
       "      <td>758.349976</td>\n",
       "    </tr>\n",
       "    <tr>\n",
       "      <th>2021-07-07</th>\n",
       "      <td>755.900024</td>\n",
       "      <td>764.000000</td>\n",
       "      <td>752.250000</td>\n",
       "      <td>762.900024</td>\n",
       "    </tr>\n",
       "    <tr>\n",
       "      <th>...</th>\n",
       "      <td>...</td>\n",
       "      <td>...</td>\n",
       "      <td>...</td>\n",
       "      <td>...</td>\n",
       "    </tr>\n",
       "    <tr>\n",
       "      <th>2022-01-19</th>\n",
       "      <td>725.200012</td>\n",
       "      <td>731.950012</td>\n",
       "      <td>718.700012</td>\n",
       "      <td>729.599976</td>\n",
       "    </tr>\n",
       "    <tr>\n",
       "      <th>2022-01-20</th>\n",
       "      <td>731.049988</td>\n",
       "      <td>737.150024</td>\n",
       "      <td>722.150024</td>\n",
       "      <td>728.900024</td>\n",
       "    </tr>\n",
       "    <tr>\n",
       "      <th>2022-01-21</th>\n",
       "      <td>722.000000</td>\n",
       "      <td>725.250000</td>\n",
       "      <td>708.049988</td>\n",
       "      <td>712.500000</td>\n",
       "    </tr>\n",
       "    <tr>\n",
       "      <th>2022-01-24</th>\n",
       "      <td>715.000000</td>\n",
       "      <td>716.400024</td>\n",
       "      <td>688.200012</td>\n",
       "      <td>704.599976</td>\n",
       "    </tr>\n",
       "    <tr>\n",
       "      <th>2022-01-25</th>\n",
       "      <td>714.000000</td>\n",
       "      <td>755.000000</td>\n",
       "      <td>708.599976</td>\n",
       "      <td>752.200012</td>\n",
       "    </tr>\n",
       "  </tbody>\n",
       "</table>\n",
       "<p>143 rows × 4 columns</p>\n",
       "</div>"
      ],
      "text/plain": [
       "                  Open        High         Low       Close\n",
       "Date                                                      \n",
       "2021-07-01  750.000000  754.400024  744.500000  746.450012\n",
       "2021-07-02  747.599976  752.849976  744.000000  750.650024\n",
       "2021-07-05  757.099976  762.000000  753.400024  760.349976\n",
       "2021-07-06  757.000000  767.000000  755.200012  758.349976\n",
       "2021-07-07  755.900024  764.000000  752.250000  762.900024\n",
       "...                ...         ...         ...         ...\n",
       "2022-01-19  725.200012  731.950012  718.700012  729.599976\n",
       "2022-01-20  731.049988  737.150024  722.150024  728.900024\n",
       "2022-01-21  722.000000  725.250000  708.049988  712.500000\n",
       "2022-01-24  715.000000  716.400024  688.200012  704.599976\n",
       "2022-01-25  714.000000  755.000000  708.599976  752.200012\n",
       "\n",
       "[143 rows x 4 columns]"
      ]
     },
     "execution_count": 6,
     "metadata": {},
     "output_type": "execute_result"
    }
   ],
   "source": [
    "stk_data"
   ]
  },
  {
   "cell_type": "code",
   "execution_count": 7,
   "id": "cfd31d63-5496-44e3-9ac4-707000e1168a",
   "metadata": {},
   "outputs": [
    {
     "name": "stdout",
     "output_type": "stream",
     "text": [
      "Len: (143, 1)\n"
     ]
    }
   ],
   "source": [
    "from sklearn.preprocessing import MinMaxScaler\n",
    "Ms = MinMaxScaler()\n",
    "data1= Ms.fit_transform(stk_data[[column]])\n",
    "print(\"Len:\",data1.shape)"
   ]
  },
  {
   "cell_type": "code",
   "execution_count": 8,
   "id": "24ed8bee-f470-40fb-b3fd-6874710b53e0",
   "metadata": {},
   "outputs": [
    {
     "name": "stdout",
     "output_type": "stream",
     "text": [
      "136\n",
      "X_train length: (136, 1)\n",
      "X_test length: (7, 1)\n",
      "y_train length: (136, 1)\n",
      "y_test length: (7, 1)\n"
     ]
    }
   ],
   "source": [
    "training_size = round(len(data1 ) * 0.95)\n",
    "print(training_size)\n",
    "X_train=data1[:training_size]\n",
    "X_test=data1[training_size:]\n",
    "print(\"X_train length:\",X_train.shape)\n",
    "print(\"X_test length:\",X_test.shape)\n",
    "y_train=data1[:training_size]\n",
    "y_test=data1[training_size:]\n",
    "print(\"y_train length:\",y_train.shape)\n",
    "print(\"y_test length:\",y_test.shape)"
   ]
  },
  {
   "cell_type": "code",
   "execution_count": 9,
   "id": "4c310228-160b-4e65-a0e1-f2fd8af743a3",
   "metadata": {},
   "outputs": [],
   "source": [
    "import warnings\n",
    "warnings.filterwarnings(\"ignore\")"
   ]
  },
  {
   "cell_type": "code",
   "execution_count": 19,
   "id": "7f078737-2478-447b-9f0c-842bc98578a1",
   "metadata": {},
   "outputs": [
    {
     "name": "stderr",
     "output_type": "stream",
     "text": [
      "C:\\Users\\Lenovo\\anaconda3\\envs\\aiml\\lib\\site-packages\\statsmodels\\base\\model.py:607: ConvergenceWarning: Maximum Likelihood optimization failed to converge. Check mle_retvals\n",
      "  warnings.warn(\"Maximum Likelihood optimization failed to \"\n"
     ]
    },
    {
     "name": "stdout",
     "output_type": "stream",
     "text": [
      "Trend=n\n",
      "RMSE-Testset: 0.36299237782158883\n",
      "maPe-Testset: 0.8991312167337603\n",
      "************\n"
     ]
    },
    {
     "name": "stderr",
     "output_type": "stream",
     "text": [
      "C:\\Users\\Lenovo\\anaconda3\\envs\\aiml\\lib\\site-packages\\statsmodels\\base\\model.py:607: ConvergenceWarning: Maximum Likelihood optimization failed to converge. Check mle_retvals\n",
      "  warnings.warn(\"Maximum Likelihood optimization failed to \"\n"
     ]
    },
    {
     "name": "stdout",
     "output_type": "stream",
     "text": [
      "Trend=t\n",
      "RMSE-Testset: 0.10565062161240908\n",
      "maPe-Testset: 0.23489711873041727\n",
      "************\n"
     ]
    },
    {
     "name": "stderr",
     "output_type": "stream",
     "text": [
      "C:\\Users\\Lenovo\\anaconda3\\envs\\aiml\\lib\\site-packages\\statsmodels\\base\\model.py:607: ConvergenceWarning: Maximum Likelihood optimization failed to converge. Check mle_retvals\n",
      "  warnings.warn(\"Maximum Likelihood optimization failed to \"\n"
     ]
    },
    {
     "name": "stdout",
     "output_type": "stream",
     "text": [
      "Trend=c\n",
      "RMSE-Testset: 0.0747801659512262\n",
      "maPe-Testset: 0.1683520421464518\n",
      "************\n",
      "Trend=ct\n",
      "RMSE-Testset: 0.13481586969970386\n",
      "maPe-Testset: 0.2583738012630095\n",
      "************\n"
     ]
    },
    {
     "name": "stderr",
     "output_type": "stream",
     "text": [
      "C:\\Users\\Lenovo\\anaconda3\\envs\\aiml\\lib\\site-packages\\statsmodels\\base\\model.py:607: ConvergenceWarning: Maximum Likelihood optimization failed to converge. Check mle_retvals\n",
      "  warnings.warn(\"Maximum Likelihood optimization failed to \"\n"
     ]
    }
   ],
   "source": [
    "from sklearn.metrics import mean_squared_error\n",
    "trends=['n','t','c','ct']\n",
    "orders=[(0,0,1),(0,0,2)]   #two different ARIMA MODEL times\n",
    "from statsmodels.tsa.arima.model import ARIMA\n",
    "for td in trends:\n",
    "        \n",
    "        #print(td)\n",
    "        #trendslist.append(td)\n",
    "    model = ARIMA(X_train, order=(0,0,10),trend=td,)    #10 WINDOW SIZE  AR--0 i--0 MA--10\n",
    "    model_fit = model.fit()\n",
    "        # make prediction\n",
    "    y_pred= model_fit.predict(len(X_train), len(data1)-1)\n",
    "        #print(y_pred)\n",
    "    from sklearn.metrics import r2_score\n",
    "    mse=mean_squared_error(y_test,y_pred,squared=False)\n",
    "    from stockFunctions import rmsemape\n",
    "    print(\"Trend={}\".format(td))\n",
    "    rmsemape(y_test,y_pred)\n",
    "    print(\"************\")"
   ]
  },
  {
   "cell_type": "code",
   "execution_count": 11,
   "id": "791102a2-a872-463f-beda-0dc715428294",
   "metadata": {},
   "outputs": [
    {
     "data": {
      "text/plain": [
       "7"
      ]
     },
     "execution_count": 11,
     "metadata": {},
     "output_type": "execute_result"
    }
   ],
   "source": [
    "len(y_pred)"
   ]
  },
  {
   "cell_type": "code",
   "execution_count": 12,
   "id": "7a833431-0165-48f8-8b16-871e53b300eb",
   "metadata": {},
   "outputs": [
    {
     "name": "stderr",
     "output_type": "stream",
     "text": [
      "C:\\Users\\Lenovo\\anaconda3\\envs\\aiml\\lib\\site-packages\\statsmodels\\base\\model.py:607: ConvergenceWarning: Maximum Likelihood optimization failed to converge. Check mle_retvals\n",
      "  warnings.warn(\"Maximum Likelihood optimization failed to \"\n"
     ]
    },
    {
     "name": "stdout",
     "output_type": "stream",
     "text": [
      "Trend=c\n",
      "RMSE-Testset: 0.1243549907918951\n",
      "maPe-Testset: 0.2315727821226435\n",
      "************\n"
     ]
    }
   ],
   "source": [
    "#i=1\n",
    "td=\"c\"\n",
    "model = ARIMA(X_train, order=(0,0,30),trend=td)\n",
    "model_fit = model.fit()\n",
    "# make prediction\n",
    "y_pred= model_fit.predict(len(X_train), len(data1)-1)\n",
    "#print(y_pred)\n",
    "from sklearn.metrics import r2_score\n",
    "mse=mean_squared_error(y_test,y_pred,squared=False)\n",
    "from stockFunctions import rmsemape\n",
    "print(\"Trend={}\".format(td))\n",
    "rmsemape(y_test,y_pred)\n",
    "print(\"************\")"
   ]
  },
  {
   "cell_type": "code",
   "execution_count": 13,
   "id": "5431cf62-8ddf-477a-9fe5-06689846e051",
   "metadata": {},
   "outputs": [
    {
     "data": {
      "image/png": "[encoded data removed]",
      "text/plain": [
       "<Figure size 1000x500 with 1 Axes>"
      ]
     },
     "metadata": {},
     "output_type": "display_data"
    }
   ],
   "source": [
    "from stockFunctions import graph\n",
    "graph(y_test,y_pred,\"Actual\",\"Predicted\",\"AXISBANK.NS-Close\",\"Days\",\"Prices\")\n",
    "#prices-->minmax VALU SO IN POINT VALUES IN GRAPH"
   ]
  },
  {
   "cell_type": "code",
   "execution_count": 14,
   "id": "037560c9-9fa1-423d-a53f-9d27c4685317",
   "metadata": {},
   "outputs": [
    {
     "data": {
      "text/plain": [
       "143"
      ]
     },
     "execution_count": 14,
     "metadata": {},
     "output_type": "execute_result"
    }
   ],
   "source": [
    "len(data1)"
   ]
  },
  {
   "cell_type": "code",
   "execution_count": 15,
   "id": "dbc84be6-3245-42c8-8993-e321b74ebc9d",
   "metadata": {},
   "outputs": [],
   "source": [
    "from stockFunctions import conversionSingle\n",
    "aTestNormTable=conversionSingle(y_test,[column])\n",
    "actual_stock_price_test_ori=Ms.inverse_transform(aTestNormTable)\n",
    "actual_stock_price_test_oriA=conversionSingle(actual_stock_price_test_ori,[column])"
   ]
  },
  {
   "cell_type": "code",
   "execution_count": 16,
   "id": "f1eecd7a-15d3-4955-ad2f-4a96e740b7e3",
   "metadata": {},
   "outputs": [
    {
     "data": {
      "text/html": [
       "<div>\n",
       "<style scoped>\n",
       "    .dataframe tbody tr th:only-of-type {\n",
       "        vertical-align: middle;\n",
       "    }\n",
       "\n",
       "    .dataframe tbody tr th {\n",
       "        vertical-align: top;\n",
       "    }\n",
       "\n",
       "    .dataframe thead th {\n",
       "        text-align: right;\n",
       "    }\n",
       "</style>\n",
       "<table border=\"1\" class=\"dataframe\">\n",
       "  <thead>\n",
       "    <tr style=\"text-align: right;\">\n",
       "      <th></th>\n",
       "      <th>Close</th>\n",
       "    </tr>\n",
       "  </thead>\n",
       "  <tbody>\n",
       "    <tr>\n",
       "      <th>0</th>\n",
       "      <td>0.317268</td>\n",
       "    </tr>\n",
       "    <tr>\n",
       "      <th>1</th>\n",
       "      <td>0.381959</td>\n",
       "    </tr>\n",
       "    <tr>\n",
       "      <th>2</th>\n",
       "      <td>0.404639</td>\n",
       "    </tr>\n",
       "    <tr>\n",
       "      <th>3</th>\n",
       "      <td>0.401031</td>\n",
       "    </tr>\n",
       "    <tr>\n",
       "      <th>4</th>\n",
       "      <td>0.316495</td>\n",
       "    </tr>\n",
       "    <tr>\n",
       "      <th>5</th>\n",
       "      <td>0.275773</td>\n",
       "    </tr>\n",
       "    <tr>\n",
       "      <th>6</th>\n",
       "      <td>0.521134</td>\n",
       "    </tr>\n",
       "  </tbody>\n",
       "</table>\n",
       "</div>"
      ],
      "text/plain": [
       "      Close\n",
       "0  0.317268\n",
       "1  0.381959\n",
       "2  0.404639\n",
       "3  0.401031\n",
       "4  0.316495\n",
       "5  0.275773\n",
       "6  0.521134"
      ]
     },
     "execution_count": 16,
     "metadata": {},
     "output_type": "execute_result"
    }
   ],
   "source": [
    "aTestNormTable"
   ]
  },
  {
   "cell_type": "code",
   "execution_count": 17,
   "id": "64ce65d9-ec7b-4cd5-88fb-5d7e11068add",
   "metadata": {},
   "outputs": [
    {
     "data": {
      "text/plain": [
       "array([[712.65002441],\n",
       "       [725.20001221],\n",
       "       [729.59997559],\n",
       "       [728.90002441],\n",
       "       [712.5       ],\n",
       "       [704.59997559],\n",
       "       [752.20001221]])"
      ]
     },
     "execution_count": 17,
     "metadata": {},
     "output_type": "execute_result"
    }
   ],
   "source": [
    "actual_stock_price_test_ori"
   ]
  },
  {
   "cell_type": "code",
   "execution_count": 18,
   "id": "584b73ba-058d-4636-9a7b-006fe4051eaa",
   "metadata": {},
   "outputs": [
    {
     "data": {
      "text/html": [
       "<div>\n",
       "<style scoped>\n",
       "    .dataframe tbody tr th:only-of-type {\n",
       "        vertical-align: middle;\n",
       "    }\n",
       "\n",
       "    .dataframe tbody tr th {\n",
       "        vertical-align: top;\n",
       "    }\n",
       "\n",
       "    .dataframe thead th {\n",
       "        text-align: right;\n",
       "    }\n",
       "</style>\n",
       "<table border=\"1\" class=\"dataframe\">\n",
       "  <thead>\n",
       "    <tr style=\"text-align: right;\">\n",
       "      <th></th>\n",
       "      <th>Close</th>\n",
       "    </tr>\n",
       "  </thead>\n",
       "  <tbody>\n",
       "    <tr>\n",
       "      <th>0</th>\n",
       "      <td>712.650024</td>\n",
       "    </tr>\n",
       "    <tr>\n",
       "      <th>1</th>\n",
       "      <td>725.200012</td>\n",
       "    </tr>\n",
       "    <tr>\n",
       "      <th>2</th>\n",
       "      <td>729.599976</td>\n",
       "    </tr>\n",
       "    <tr>\n",
       "      <th>3</th>\n",
       "      <td>728.900024</td>\n",
       "    </tr>\n",
       "    <tr>\n",
       "      <th>4</th>\n",
       "      <td>712.5</td>\n",
       "    </tr>\n",
       "    <tr>\n",
       "      <th>5</th>\n",
       "      <td>704.599976</td>\n",
       "    </tr>\n",
       "    <tr>\n",
       "      <th>6</th>\n",
       "      <td>752.200012</td>\n",
       "    </tr>\n",
       "  </tbody>\n",
       "</table>\n",
       "</div>"
      ],
      "text/plain": [
       "        Close\n",
       "0  712.650024\n",
       "1  725.200012\n",
       "2  729.599976\n",
       "3  728.900024\n",
       "4       712.5\n",
       "5  704.599976\n",
       "6  752.200012"
      ]
     },
     "execution_count": 18,
     "metadata": {},
     "output_type": "execute_result"
    }
   ],
   "source": [
    "actual_stock_price_test_oriA"
   ]
  },
  {
   "cell_type": "code",
   "execution_count": 19,
   "id": "11a4e4d4-8883-4d92-aefe-2a9acf0f5737",
   "metadata": {},
   "outputs": [],
   "source": [
    "from stockFunctions import conversionSingle\n",
    "pTestNormTable=conversionSingle(y_pred,[column])\n",
    "predicted_stock_price_test_ori=Ms.inverse_transform(pTestNormTable)\n",
    "predicted_stock_price_test_oriP=conversionSingle(predicted_stock_price_test_ori,[column])"
   ]
  },
  {
   "cell_type": "code",
   "execution_count": 20,
   "id": "a8523d1c-150f-47a4-bd54-15b89b9dfc53",
   "metadata": {},
   "outputs": [
    {
     "data": {
      "text/html": [
       "<div>\n",
       "<style scoped>\n",
       "    .dataframe tbody tr th:only-of-type {\n",
       "        vertical-align: middle;\n",
       "    }\n",
       "\n",
       "    .dataframe tbody tr th {\n",
       "        vertical-align: top;\n",
       "    }\n",
       "\n",
       "    .dataframe thead th {\n",
       "        text-align: right;\n",
       "    }\n",
       "</style>\n",
       "<table border=\"1\" class=\"dataframe\">\n",
       "  <thead>\n",
       "    <tr style=\"text-align: right;\">\n",
       "      <th></th>\n",
       "      <th>Close</th>\n",
       "    </tr>\n",
       "  </thead>\n",
       "  <tbody>\n",
       "    <tr>\n",
       "      <th>0</th>\n",
       "      <td>0.330989</td>\n",
       "    </tr>\n",
       "    <tr>\n",
       "      <th>1</th>\n",
       "      <td>0.305378</td>\n",
       "    </tr>\n",
       "    <tr>\n",
       "      <th>2</th>\n",
       "      <td>0.298028</td>\n",
       "    </tr>\n",
       "    <tr>\n",
       "      <th>3</th>\n",
       "      <td>0.279807</td>\n",
       "    </tr>\n",
       "    <tr>\n",
       "      <th>4</th>\n",
       "      <td>0.26427</td>\n",
       "    </tr>\n",
       "    <tr>\n",
       "      <th>5</th>\n",
       "      <td>0.239574</td>\n",
       "    </tr>\n",
       "    <tr>\n",
       "      <th>6</th>\n",
       "      <td>0.252625</td>\n",
       "    </tr>\n",
       "  </tbody>\n",
       "</table>\n",
       "</div>"
      ],
      "text/plain": [
       "      Close\n",
       "0  0.330989\n",
       "1  0.305378\n",
       "2  0.298028\n",
       "3  0.279807\n",
       "4   0.26427\n",
       "5  0.239574\n",
       "6  0.252625"
      ]
     },
     "execution_count": 20,
     "metadata": {},
     "output_type": "execute_result"
    }
   ],
   "source": [
    "pTestNormTable"
   ]
  },
  {
   "cell_type": "code",
   "execution_count": 21,
   "id": "f5aaf7de-1900-4b0a-b439-9d728f1a9e95",
   "metadata": {},
   "outputs": [
    {
     "data": {
      "text/plain": [
       "array([[715.31183024],\n",
       "       [710.34335777],\n",
       "       [708.91735751],\n",
       "       [705.38255904],\n",
       "       [702.36830267],\n",
       "       [697.57736442],\n",
       "       [700.10923331]])"
      ]
     },
     "execution_count": 21,
     "metadata": {},
     "output_type": "execute_result"
    }
   ],
   "source": [
    "predicted_stock_price_test_ori"
   ]
  },
  {
   "cell_type": "code",
   "execution_count": 22,
   "id": "e181d259-b319-4c20-a88c-659be67a16fe",
   "metadata": {},
   "outputs": [
    {
     "data": {
      "text/html": [
       "<div>\n",
       "<style scoped>\n",
       "    .dataframe tbody tr th:only-of-type {\n",
       "        vertical-align: middle;\n",
       "    }\n",
       "\n",
       "    .dataframe tbody tr th {\n",
       "        vertical-align: top;\n",
       "    }\n",
       "\n",
       "    .dataframe thead th {\n",
       "        text-align: right;\n",
       "    }\n",
       "</style>\n",
       "<table border=\"1\" class=\"dataframe\">\n",
       "  <thead>\n",
       "    <tr style=\"text-align: right;\">\n",
       "      <th></th>\n",
       "      <th>Close</th>\n",
       "    </tr>\n",
       "  </thead>\n",
       "  <tbody>\n",
       "    <tr>\n",
       "      <th>0</th>\n",
       "      <td>715.31183</td>\n",
       "    </tr>\n",
       "    <tr>\n",
       "      <th>1</th>\n",
       "      <td>710.343358</td>\n",
       "    </tr>\n",
       "    <tr>\n",
       "      <th>2</th>\n",
       "      <td>708.917358</td>\n",
       "    </tr>\n",
       "    <tr>\n",
       "      <th>3</th>\n",
       "      <td>705.382559</td>\n",
       "    </tr>\n",
       "    <tr>\n",
       "      <th>4</th>\n",
       "      <td>702.368303</td>\n",
       "    </tr>\n",
       "    <tr>\n",
       "      <th>5</th>\n",
       "      <td>697.577364</td>\n",
       "    </tr>\n",
       "    <tr>\n",
       "      <th>6</th>\n",
       "      <td>700.109233</td>\n",
       "    </tr>\n",
       "  </tbody>\n",
       "</table>\n",
       "</div>"
      ],
      "text/plain": [
       "        Close\n",
       "0   715.31183\n",
       "1  710.343358\n",
       "2  708.917358\n",
       "3  705.382559\n",
       "4  702.368303\n",
       "5  697.577364\n",
       "6  700.109233"
      ]
     },
     "execution_count": 22,
     "metadata": {},
     "output_type": "execute_result"
    }
   ],
   "source": [
    "predicted_stock_price_test_oriP"
   ]
  },
  {
   "cell_type": "code",
   "execution_count": 23,
   "id": "70eb827e-4477-4160-a802-d9427beff63e",
   "metadata": {},
   "outputs": [
    {
     "data": {
      "image/png": "[encoded data removed]",
      "text/plain": [
       "<Figure size 1000x500 with 1 Axes>"
      ]
     },
     "metadata": {},
     "output_type": "display_data"
    }
   ],
   "source": [
    "from stockFunctions import graph\n",
    "graph(actual_stock_price_test_oriA,predicted_stock_price_test_oriP,\"Actual\",\"Predicted\",\"TataCoffee-Close-MA-Ori\",\"Days\",\"Prices\")"
   ]
  },
  {
   "cell_type": "code",
   "execution_count": 24,
   "id": "3f403974-d412-4388-8c15-ad1bcc1a8b43",
   "metadata": {},
   "outputs": [
    {
     "name": "stdout",
     "output_type": "stream",
     "text": [
      "RMSE-Testset: 24.124868213627668\n",
      "maPe-Testset: 0.02546736321015767\n"
     ]
    }
   ],
   "source": [
    "from stockFunctions import rmsemape\n",
    "rmsemape(actual_stock_price_test_oriA,predicted_stock_price_test_oriP)"
   ]
  },
  {
   "cell_type": "code",
   "execution_count": 25,
   "id": "c18f0b13-bbdf-4545-88c7-2d873dd662bc",
   "metadata": {},
   "outputs": [],
   "source": [
    "forecast=model_fit.predict(len(data1), len(data1))"
   ]
  },
  {
   "cell_type": "code",
   "execution_count": 26,
   "id": "35a9de66-2cd8-4aa6-ba37-b55b59199ce1",
   "metadata": {},
   "outputs": [
    {
     "data": {
      "text/plain": [
       "array([0.27579392])"
      ]
     },
     "execution_count": 26,
     "metadata": {},
     "output_type": "execute_result"
    }
   ],
   "source": [
    "forecast"
   ]
  },
  {
   "cell_type": "code",
   "execution_count": 27,
   "id": "338564dd-8797-4a22-bba6-6dc44baeecc3",
   "metadata": {},
   "outputs": [],
   "source": [
    "from stockFunctions import conversionSingle\n",
    "fTestNormTable=conversionSingle(forecast,[\"Closefore\"])\n",
    "forecast_stock_price_test_ori=Ms.inverse_transform(fTestNormTable)\n",
    "forecast_stock_price_test_oriF=conversionSingle(forecast_stock_price_test_ori,[\"Closefore\"])"
   ]
  },
  {
   "cell_type": "code",
   "execution_count": 28,
   "id": "5be5187e-f3c1-4304-af69-2d7120ffa82b",
   "metadata": {},
   "outputs": [
    {
     "data": {
      "text/html": [
       "<div>\n",
       "<style scoped>\n",
       "    .dataframe tbody tr th:only-of-type {\n",
       "        vertical-align: middle;\n",
       "    }\n",
       "\n",
       "    .dataframe tbody tr th {\n",
       "        vertical-align: top;\n",
       "    }\n",
       "\n",
       "    .dataframe thead th {\n",
       "        text-align: right;\n",
       "    }\n",
       "</style>\n",
       "<table border=\"1\" class=\"dataframe\">\n",
       "  <thead>\n",
       "    <tr style=\"text-align: right;\">\n",
       "      <th></th>\n",
       "      <th>Closefore</th>\n",
       "    </tr>\n",
       "  </thead>\n",
       "  <tbody>\n",
       "    <tr>\n",
       "      <th>0</th>\n",
       "      <td>0.275794</td>\n",
       "    </tr>\n",
       "  </tbody>\n",
       "</table>\n",
       "</div>"
      ],
      "text/plain": [
       "  Closefore\n",
       "0  0.275794"
      ]
     },
     "execution_count": 28,
     "metadata": {},
     "output_type": "execute_result"
    }
   ],
   "source": [
    "fTestNormTable"
   ]
  },
  {
   "cell_type": "code",
   "execution_count": 29,
   "id": "2e716e58-773d-4a05-8c62-f4a4dcec44a2",
   "metadata": {},
   "outputs": [
    {
     "data": {
      "text/plain": [
       "array([[704.60399653]])"
      ]
     },
     "execution_count": 29,
     "metadata": {},
     "output_type": "execute_result"
    }
   ],
   "source": [
    "forecast_stock_price_test_ori"
   ]
  },
  {
   "cell_type": "code",
   "execution_count": 30,
   "id": "3b5daa44-34bd-45d7-926d-fd91f928a927",
   "metadata": {},
   "outputs": [
    {
     "data": {
      "text/html": [
       "<div>\n",
       "<style scoped>\n",
       "    .dataframe tbody tr th:only-of-type {\n",
       "        vertical-align: middle;\n",
       "    }\n",
       "\n",
       "    .dataframe tbody tr th {\n",
       "        vertical-align: top;\n",
       "    }\n",
       "\n",
       "    .dataframe thead th {\n",
       "        text-align: right;\n",
       "    }\n",
       "</style>\n",
       "<table border=\"1\" class=\"dataframe\">\n",
       "  <thead>\n",
       "    <tr style=\"text-align: right;\">\n",
       "      <th></th>\n",
       "      <th>Closefore</th>\n",
       "    </tr>\n",
       "  </thead>\n",
       "  <tbody>\n",
       "    <tr>\n",
       "      <th>0</th>\n",
       "      <td>704.603997</td>\n",
       "    </tr>\n",
       "  </tbody>\n",
       "</table>\n",
       "</div>"
      ],
      "text/plain": [
       "    Closefore\n",
       "0  704.603997"
      ]
     },
     "execution_count": 30,
     "metadata": {},
     "output_type": "execute_result"
    }
   ],
   "source": [
    "forecast_stock_price_test_oriF"
   ]
  },
  {
   "cell_type": "code",
   "execution_count": 31,
   "id": "01ce82af-f611-4a6b-8488-332eec635d84",
   "metadata": {},
   "outputs": [],
   "source": [
    "forecast_stock_price_test_oriF.to_csv(\"CloseAXISBANK-MA.csv\",index=False)"
   ]
  },
  {
   "cell_type": "code",
   "execution_count": null,
   "id": "ea24a06d-e026-461a-9685-87e76f97a9b1",
   "metadata": {},
   "outputs": [],
   "source": []
  }
 ],
 "metadata": {
  "kernelspec": {
   "display_name": "Python 3 (ipykernel)",
   "language": "python",
   "name": "python3"
  },
  "language_info": {
   "codemirror_mode": {
    "name": "ipython",
    "version": 3
   },
   "file_extension": ".py",
   "mimetype": "text/x-python",
   "name": "python",
   "nbconvert_exporter": "python",
   "pygments_lexer": "ipython3",
   "version": "3.10.14"
  }
 },
 "nbformat": 4,
 "nbformat_minor": 5
}
